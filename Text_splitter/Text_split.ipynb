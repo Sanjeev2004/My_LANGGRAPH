{
 "cells": [
  {
   "cell_type": "code",
   "execution_count": 4,
   "id": "77244a3c",
   "metadata": {},
   "outputs": [
    {
     "name": "stdout",
     "output_type": "stream",
     "text": [
      "Hello World. This is a test string to check how the text splitter works. We will split this text into smaller chunks based on the specified chunk size and overlap. This is useful for processing large documents in manageable pieces.\n"
     ]
    }
   ],
   "source": [
    "from langchain.document_loaders import PyPDFLoader\n",
    "from langchain.text_splitter import CharacterTextSplitter\n",
    "\n",
    "splitter=CharacterTextSplitter(separator=\"\\n\",chunk_size=1000,chunk_overlap=200)\n",
    "\n",
    "result=splitter.split_text(\"Hello World. This is a test string to check how the text splitter works. We will split this text into smaller chunks based on the specified chunk size and overlap. This is useful for processing large documents in manageable pieces.\")\n",
    "\n",
    "print(result[0])"
   ]
  },
  {
   "cell_type": "code",
   "execution_count": null,
   "id": "60b0fe21",
   "metadata": {},
   "outputs": [],
   "source": []
  }
 ],
 "metadata": {
  "kernelspec": {
   "display_name": "Python 3",
   "language": "python",
   "name": "python3"
  },
  "language_info": {
   "codemirror_mode": {
    "name": "ipython",
    "version": 3
   },
   "file_extension": ".py",
   "mimetype": "text/x-python",
   "name": "python",
   "nbconvert_exporter": "python",
   "pygments_lexer": "ipython3",
   "version": "3.13.5"
  }
 },
 "nbformat": 4,
 "nbformat_minor": 5
}
