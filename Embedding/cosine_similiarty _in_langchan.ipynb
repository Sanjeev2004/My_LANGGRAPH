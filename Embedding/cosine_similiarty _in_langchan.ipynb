{
 "cells": [
  {
   "cell_type": "code",
   "execution_count": 1,
   "id": "b5395023",
   "metadata": {},
   "outputs": [
    {
     "data": {
      "text/plain": [
       "True"
      ]
     },
     "execution_count": 1,
     "metadata": {},
     "output_type": "execute_result"
    }
   ],
   "source": [
    "from langchain_google_genai import GoogleGenerativeAIEmbeddings\n",
    "from sklearn.metrics.pairwise import cosine_similarity\n",
    "from dotenv import load_dotenv\n",
    "import numpy as np\n",
    "import os\n",
    "\n",
    "load_dotenv()\n"
   ]
  },
  {
   "cell_type": "code",
   "execution_count": 6,
   "id": "452de20d",
   "metadata": {},
   "outputs": [],
   "source": [
    "embedding = GoogleGenerativeAIEmbeddings(model=\"models/gemini-embedding-001\")\n"
   ]
  },
  {
   "cell_type": "code",
   "execution_count": 7,
   "id": "3c7c3376",
   "metadata": {},
   "outputs": [],
   "source": [
    "documents = [\n",
    "    \"Virat Kohli is an Indian cricketer, former captain of the Indian national team.\",\n",
    "    \"Sachin Tendulkar is a retired Indian cricketer widely regarded as one of the greatest batsmen.\",\n",
    "    \"Lionel Messi is a professional footballer from Argentina.\"\n",
    "]"
   ]
  },
  {
   "cell_type": "code",
   "execution_count": 8,
   "id": "4803c18a",
   "metadata": {},
   "outputs": [],
   "source": [
    "query = \"tell me about virat kohli\"\n"
   ]
  },
  {
   "cell_type": "code",
   "execution_count": 9,
   "id": "71190b66",
   "metadata": {},
   "outputs": [],
   "source": [
    "# Embed documents and query\n",
    "doc_embeddings = embedding.embed_documents(documents)\n",
    "query_embedding = embedding.embed_query(query)"
   ]
  },
  {
   "cell_type": "code",
   "execution_count": 10,
   "id": "a978ff9e",
   "metadata": {},
   "outputs": [],
   "source": [
    "similarity_scores = cosine_similarity([query_embedding], np.array(doc_embeddings))"
   ]
  },
  {
   "cell_type": "code",
   "execution_count": 11,
   "id": "e398f960",
   "metadata": {},
   "outputs": [
    {
     "name": "stdout",
     "output_type": "stream",
     "text": [
      "Similarity Scores: [[0.72624214 0.64350995 0.58292401]]\n"
     ]
    }
   ],
   "source": [
    "print(\"Similarity Scores:\", similarity_scores)"
   ]
  },
  {
   "cell_type": "code",
   "execution_count": 12,
   "id": "934cfc4e",
   "metadata": {},
   "outputs": [
    {
     "name": "stdout",
     "output_type": "stream",
     "text": [
      "Most similar document: Virat Kohli is an Indian cricketer, former captain of the Indian national team.\n"
     ]
    }
   ],
   "source": [
    "# Find most relevant document\n",
    "most_similar_idx = np.argmax(similarity_scores)\n",
    "print(\"Most similar document:\", documents[most_similar_idx])"
   ]
  }
 ],
 "metadata": {
  "kernelspec": {
   "display_name": ".conda",
   "language": "python",
   "name": "python3"
  },
  "language_info": {
   "codemirror_mode": {
    "name": "ipython",
    "version": 3
   },
   "file_extension": ".py",
   "mimetype": "text/x-python",
   "name": "python",
   "nbconvert_exporter": "python",
   "pygments_lexer": "ipython3",
   "version": "3.10.18"
  }
 },
 "nbformat": 4,
 "nbformat_minor": 5
}
