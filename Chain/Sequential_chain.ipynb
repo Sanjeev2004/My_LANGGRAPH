{
 "cells": [
  {
   "cell_type": "code",
   "execution_count": 2,
   "id": "c9a68f26",
   "metadata": {},
   "outputs": [
    {
     "name": "stdout",
     "output_type": "stream",
     "text": [
      "Here's a 5-point summary of the report on unemployment in India:\n",
      "\n",
      "*   **Complex Problem:** Unemployment in India is multifaceted, characterized by a large informal sector, underemployment, and regional/demographic disparities, masking the true extent of the issue despite relatively low official rates.\n",
      "*   **Key Causes:** Major contributing factors include rapid population growth, skill mismatches, inadequate infrastructure, dominance of the informal sector, and slow industrial growth.\n",
      "*   **Significant Consequences:** Unemployment leads to reduced economic growth, loss of tax revenue, increased poverty, social unrest, mental health problems, and erosion of public trust in the government.\n",
      "*   **Government Initiatives:** The government has implemented numerous programs like MGNREGA, PMKVY, and Start-up India, but these face implementation challenges, skill gaps, and often focus primarily on the informal sector.\n",
      "*   **Potential Solutions:** Addressing unemployment requires a multi-pronged approach focusing on investing in education and skill development, promoting entrepreneurship, improving infrastructure, reforming labor laws, and addressing demographic disparities.\n"
     ]
    }
   ],
   "source": [
    "from langchain_google_genai import ChatGoogleGenerativeAI\n",
    "from langchain_core.prompts import PromptTemplate\n",
    "from langchain_core.output_parsers import StrOutputParser\n",
    "from dotenv import load_dotenv\n",
    "load_dotenv()\n",
    "\n",
    "prompt1= PromptTemplate(\n",
    "    template=\"Generate a detailed report on the {topic}?\",\n",
    "    input_variables=[\"topic\"]\n",
    ")\n",
    "\n",
    "prompt2=PromptTemplate( \n",
    "    template=\"Write a 5 -pointer summary from the following text {text}?\",\n",
    "    input_variables=[\"text\"]\n",
    "    )\n",
    "\n",
    "model = ChatGoogleGenerativeAI(model=\"gemini-2.0-flash\", temperature=0.5)\n",
    "\n",
    "parser = StrOutputParser()\n",
    "\n",
    "chain=prompt1 | model |parser|prompt2 | model | parser\n",
    "result=chain.invoke({'topic':\"Unemployment in India\"})\n",
    "print(result)"
   ]
  },
  {
   "cell_type": "code",
   "execution_count": 3,
   "id": "13dd6350",
   "metadata": {},
   "outputs": [
    {
     "name": "stdout",
     "output_type": "stream",
     "text": [
      "      +-------------+      \n",
      "      | PromptInput |      \n",
      "      +-------------+      \n",
      "             *             \n",
      "             *             \n",
      "             *             \n",
      "    +----------------+     \n",
      "    | PromptTemplate |     \n",
      "    +----------------+     \n",
      "             *             \n",
      "             *             \n",
      "             *             \n",
      "+------------------------+ \n",
      "| ChatGoogleGenerativeAI | \n",
      "+------------------------+ \n",
      "             *             \n",
      "             *             \n",
      "             *             \n",
      "    +-----------------+    \n",
      "    | StrOutputParser |    \n",
      "    +-----------------+    \n",
      "             *             \n",
      "             *             \n",
      "             *             \n",
      "+-----------------------+  \n",
      "| StrOutputParserOutput |  \n",
      "+-----------------------+  \n",
      "             *             \n",
      "             *             \n",
      "             *             \n",
      "    +----------------+     \n",
      "    | PromptTemplate |     \n",
      "    +----------------+     \n",
      "             *             \n",
      "             *             \n",
      "             *             \n",
      "+------------------------+ \n",
      "| ChatGoogleGenerativeAI | \n",
      "+------------------------+ \n",
      "             *             \n",
      "             *             \n",
      "             *             \n",
      "    +-----------------+    \n",
      "    | StrOutputParser |    \n",
      "    +-----------------+    \n",
      "             *             \n",
      "             *             \n",
      "             *             \n",
      "+-----------------------+  \n",
      "| StrOutputParserOutput |  \n",
      "+-----------------------+  \n"
     ]
    }
   ],
   "source": [
    "chain.get_graph().print_ascii()"
   ]
  },
  {
   "cell_type": "code",
   "execution_count": null,
   "id": "f5bf4399",
   "metadata": {},
   "outputs": [],
   "source": []
  }
 ],
 "metadata": {
  "kernelspec": {
   "display_name": "Python 3",
   "language": "python",
   "name": "python3"
  },
  "language_info": {
   "codemirror_mode": {
    "name": "ipython",
    "version": 3
   },
   "file_extension": ".py",
   "mimetype": "text/x-python",
   "name": "python",
   "nbconvert_exporter": "python",
   "pygments_lexer": "ipython3",
   "version": "3.13.5"
  }
 },
 "nbformat": 4,
 "nbformat_minor": 5
}
