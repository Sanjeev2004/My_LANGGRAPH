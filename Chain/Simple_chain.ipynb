{
 "cells": [
  {
   "cell_type": "code",
   "execution_count": 5,
   "id": "c8b2cbf9",
   "metadata": {},
   "outputs": [
    {
     "name": "stderr",
     "output_type": "stream",
     "text": [
      "\n",
      "[notice] A new release of pip is available: 25.1.1 -> 25.2\n",
      "[notice] To update, run: python.exe -m pip install --upgrade pip\n"
     ]
    }
   ],
   "source": [
    "\n",
    "\n",
    "!pip install -q langchain-google-genai langchain-core python-dotenv"
   ]
  },
  {
   "cell_type": "code",
   "execution_count": 2,
   "id": "0a42b1b7",
   "metadata": {},
   "outputs": [
    {
     "data": {
      "text/plain": [
       "True"
      ]
     },
     "execution_count": 2,
     "metadata": {},
     "output_type": "execute_result"
    }
   ],
   "source": [
    "from langchain_google_genai import ChatGoogleGenerativeAI\n",
    "from langchain_core.prompts import PromptTemplate\n",
    "from langchain_core.output_parsers import StrOutputParser\n",
    "from dotenv import load_dotenv\n",
    "load_dotenv()"
   ]
  },
  {
   "cell_type": "code",
   "execution_count": 3,
   "id": "d98d8287",
   "metadata": {},
   "outputs": [
    {
     "name": "stdout",
     "output_type": "stream",
     "text": [
      "The iPhone 15 Pro Max is Apple's top-of-the-line iPhone for 2023, boasting a range of advanced features and improvements over previous models. Here's a comprehensive overview of its key features:\n",
      "\n",
      "**Design and Display:**\n",
      "\n",
      "*   **Titanium Design:**  A new aerospace-grade titanium design, making it lighter and more durable than previous stainless steel models.\n",
      "*   **Thinner Bezels:**  Significantly reduced bezels around the display, maximizing screen real estate.\n",
      "*   **Ceramic Shield Front Cover:**  Apple's Ceramic Shield front cover for improved drop performance.\n",
      "*   **6.7-inch Super Retina XDR Display:**  A vibrant and sharp OLED display with ProMotion technology (adaptive refresh rates up to 120Hz).\n",
      "*   **Always-On Display:**  Allows you to see information like the time, widgets, and Live Activities at a glance without raising your phone.\n",
      "*   **Dynamic Island:**  Replaces the notch with a pill-shaped area that adapts and displays alerts, notifications, and activities in real-time.\n",
      "\n",
      "**Performance:**\n",
      "\n",
      "*   **A17 Pro Chip:**  A new 3nm chip that delivers significant performance improvements in CPU, GPU, and Neural Engine capabilities.  It's designed for demanding tasks like gaming, augmented reality, and video editing.\n",
      "*   **ProRes Video Recording:**  Supports ProRes video recording directly to external storage via USB-C.\n",
      "*   **Hardware-accelerated Ray Tracing:**  Delivers more realistic and immersive graphics in games.\n",
      "\n",
      "**Camera System:**\n",
      "\n",
      "*   **Advanced Camera System:** A pro-level camera system with significant upgrades.\n",
      "*   **48MP Main Camera:**  A larger sensor for improved low-light performance and more detailed photos.  Offers the ability to shoot in 24MP by default.\n",
      "*   **New Telephoto Lens (5x Optical Zoom):**  A new telephoto lens design (tetraprism design) that enables 5x optical zoom, offering greater reach for capturing distant subjects.\n",
      "*   **Improved Ultra Wide Camera:**  Enhanced ultra-wide camera for better macro photography and wider perspectives.\n",
      "*   **Photonic Engine:**  Apple's computational photography pipeline that enhances image quality.\n",
      "*   **Next-generation portraits with Focus and Depth Control:**  More control over portrait mode photos after they've been taken.\n",
      "*   **Action mode for smooth, handheld video:**  Improved video stabilization.\n",
      "*   **Cinematic mode in 4K HDR at 30 fps:**  Record videos with a shallow depth of field and automatic focus transitions.\n",
      "\n",
      "**Connectivity and Ports:**\n",
      "\n",
      "*   **USB-C Port:**  Replaces the Lightning port with a USB-C port, offering faster data transfer speeds and compatibility with a wider range of accessories.  Supports USB 3 for faster transfer speeds.\n",
      "*   **Wi-Fi 6E:**  Faster and more reliable Wi-Fi connectivity.\n",
      "*   **5G Connectivity:**  Supports a wide range of 5G bands for fast download and upload speeds.\n",
      "*   **Emergency SOS via satellite:**  Allows you to send emergency messages even when you're out of cellular and Wi-Fi range (subscription required after a trial period).\n",
      "*   **Crash Detection:**  Automatically detects severe car crashes and calls for help.\n",
      "\n",
      "**Other Features:**\n",
      "\n",
      "*   **Action Button:**  Replaces the mute switch with a customizable Action button that can be programmed to perform various functions, such as launching the camera, turning on the flashlight, or activating a custom shortcut.\n",
      "*   **Improved Battery Life:**  Optimized battery life for all-day use.\n",
      "*   **MagSafe and Qi Wireless Charging:**  Supports MagSafe and Qi wireless charging.\n",
      "*   **Face ID:**  Secure facial recognition for unlocking your phone and authenticating purchases.\n",
      "*   **IP68 Water and Dust Resistance:**  Protected against water and dust.\n",
      "*   **iOS 17:**  Comes with iOS 17, featuring new customization options, improved communication features, and enhanced privacy settings.\n",
      "\n",
      "**Key Differences from iPhone 15 Pro (non-Max):**\n",
      "\n",
      "*   **Screen Size:** The Pro Max has a larger 6.7-inch display compared to the Pro's 6.1-inch display.\n",
      "*   **Battery Life:** The Pro Max generally offers longer battery life due to its larger size allowing for a bigger battery.\n",
      "*   **Telephoto Zoom:** The Pro Max has 5x optical zoom, while the Pro has 3x optical zoom.\n",
      "\n",
      "In summary, the iPhone 15 Pro Max is a powerhouse of a phone with a stunning display, incredible performance, a versatile camera system, and a durable design. It's designed for users who demand the best possible features and performance from their smartphone.\n"
     ]
    }
   ],
   "source": [
    "prompt= PromptTemplate(\n",
    "    template=\"What are the features of the {product}?\",\n",
    "    input_variables=[\"product\"]\n",
    ")\n",
    "\n",
    "model = ChatGoogleGenerativeAI(model=\"gemini-2.0-flash\", temperature=0.5)\n",
    "\n",
    "parser = StrOutputParser()\n",
    "\n",
    "chain= prompt | model | parser\n",
    "\n",
    "result=chain.invoke({\"product\": \"iPhone 15 Pro Max\"}) \n",
    "\n",
    "print(result)\n"
   ]
  },
  {
   "cell_type": "code",
   "execution_count": 4,
   "id": "c2463937",
   "metadata": {},
   "outputs": [
    {
     "name": "stdout",
     "output_type": "stream",
     "text": [
      "      +-------------+      \n",
      "      | PromptInput |      \n",
      "      +-------------+      \n",
      "             *             \n",
      "             *             \n",
      "             *             \n",
      "    +----------------+     \n",
      "    | PromptTemplate |     \n",
      "    +----------------+     \n",
      "             *             \n",
      "             *             \n",
      "             *             \n",
      "+------------------------+ \n",
      "| ChatGoogleGenerativeAI | \n",
      "+------------------------+ \n",
      "             *             \n",
      "             *             \n",
      "             *             \n",
      "    +-----------------+    \n",
      "    | StrOutputParser |    \n",
      "    +-----------------+    \n",
      "             *             \n",
      "             *             \n",
      "             *             \n",
      "+-----------------------+  \n",
      "| StrOutputParserOutput |  \n",
      "+-----------------------+  \n"
     ]
    }
   ],
   "source": [
    "chain.get_graph().print_ascii()"
   ]
  }
 ],
 "metadata": {
  "kernelspec": {
   "display_name": "Python 3",
   "language": "python",
   "name": "python3"
  },
  "language_info": {
   "codemirror_mode": {
    "name": "ipython",
    "version": 3
   },
   "file_extension": ".py",
   "mimetype": "text/x-python",
   "name": "python",
   "nbconvert_exporter": "python",
   "pygments_lexer": "ipython3",
   "version": "3.13.5"
  }
 },
 "nbformat": 4,
 "nbformat_minor": 5
}
