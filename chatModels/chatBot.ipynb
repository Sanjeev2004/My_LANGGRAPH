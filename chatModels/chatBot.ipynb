{
 "cells": [
  {
   "cell_type": "code",
   "execution_count": 3,
   "id": "bb14eec0",
   "metadata": {},
   "outputs": [
    {
     "data": {
      "text/plain": [
       "True"
      ]
     },
     "execution_count": 3,
     "metadata": {},
     "output_type": "execute_result"
    }
   ],
   "source": [
    "from langchain_google_genai import ChatGoogleGenerativeAI\n",
    "from dotenv import load_dotenv\n",
    "\n",
    "load_dotenv()  # Load environment variables from .env file"
   ]
  },
  {
   "cell_type": "code",
   "execution_count": 6,
   "id": "e0447507",
   "metadata": {},
   "outputs": [],
   "source": [
    "model = ChatGoogleGenerativeAI(\n",
    "    model=\"gemini-2.5-flash\",\n",
    "    temperature=0.5\n",
    ")"
   ]
  },
  {
   "cell_type": "code",
   "execution_count": null,
   "id": "1cd9d0c8",
   "metadata": {},
   "outputs": [],
   "source": []
  },
  {
   "cell_type": "code",
   "execution_count": 11,
   "id": "ae7f05d6",
   "metadata": {},
   "outputs": [
    {
     "name": "stdout",
     "output_type": "stream",
     "text": [
      "Gemini: Hi there! How can I help you today?\n",
      "Gemini: 2 is greater than 0.\n",
      "Gemini: I can certainly do that! What number would you like me to multiply by 10?\n",
      "Gemini: To tell you which was greater, I need to know what two (or more) things you are comparing!\n",
      "\n",
      "Please provide the items you'd like me to compare. For example:\n",
      "\n",
      "*   \"Which was greater, 5 or 10?\"\n",
      "*   \"Which was greater, the population of New York City or Los Angeles?\"\n",
      "*   \"Which was greater, the speed of light or the speed of sound?\"\n",
      "\n",
      "Once you give me the options, I can tell you!\n",
      "Exiting the chat. Goodbye!\n",
      "Chat History: [('hi', None), ('hi', 'Hi there! How can I help you today?'), ('which is greter  2 or 0', None), ('which is greter  2 or 0', '2 is greater than 0.'), ('multiply it with 10', None), ('multiply it with 10', 'I can certainly do that! What number would you like me to multiply by 10?'), ('which was greter', None), ('which was greter', 'To tell you which was greater, I need to know what two (or more) things you are comparing!\\n\\nPlease provide the items you\\'d like me to compare. For example:\\n\\n*   \"Which was greater, 5 or 10?\"\\n*   \"Which was greater, the population of New York City or Los Angeles?\"\\n*   \"Which was greater, the speed of light or the speed of sound?\"\\n\\nOnce you give me the options, I can tell you!'), ('quit', None)]\n"
     ]
    }
   ],
   "source": [
    "chat_history = []\n",
    "while True:\n",
    "    user_input = input(\"You: \")\n",
    "    chat_history.append((user_input, None))\n",
    "    if user_input.lower() in [\"exit\", \"quit\"]:\n",
    "        print(\"Exiting the chat. Goodbye!\")\n",
    "        break\n",
    "    \n",
    "    response = model.invoke(user_input)\n",
    "    chat_history.append((user_input, response.content))\n",
    "    print(f\"Gemini: {response.content}\")\n",
    "print(\"Chat History:\", chat_history)"
   ]
  }
 ],
 "metadata": {
  "kernelspec": {
   "display_name": ".conda",
   "language": "python",
   "name": "python3"
  },
  "language_info": {
   "codemirror_mode": {
    "name": "ipython",
    "version": 3
   },
   "file_extension": ".py",
   "mimetype": "text/x-python",
   "name": "python",
   "nbconvert_exporter": "python",
   "pygments_lexer": "ipython3",
   "version": "3.10.18"
  }
 },
 "nbformat": 4,
 "nbformat_minor": 5
}
