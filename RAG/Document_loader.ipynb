{
 "cells": [
  {
   "cell_type": "code",
   "execution_count": 1,
   "id": "72418ae0",
   "metadata": {},
   "outputs": [],
   "source": [
    "from langchain_google_genai import ChatGoogleGenerativeAI\n",
    "from langchain_core.prompts import PromptTemplate\n",
    "from langchain_core.output_parsers import StrOutputParser\n",
    "from langchain_community.document_loaders import TextLoader\n",
    "from dotenv import load_dotenv\n",
    "load_dotenv()\n",
    "\n",
    "loader = TextLoader('Simple_chain.py')"
   ]
  },
  {
   "cell_type": "code",
   "execution_count": 2,
   "id": "7580b3e6",
   "metadata": {},
   "outputs": [
    {
     "name": "stdout",
     "output_type": "stream",
     "text": [
      "Introduction\n",
      "\n",
      "Cricket is one of the most popular sports in the world, especially in countries like India, England, Australia, and South Africa. It is often called a “gentleman’s game” because of its sportsmanship and respect for rules. Cricket was first played in England in the 16th century, and today it is loved by millions across the globe.\n",
      "\n",
      "History of Cricket\n",
      "\n",
      "Cricket originated in England and gradually spread to other parts of the world during the British colonial period. The first international cricket match was played between Canada and the USA in 1844, while the first official Test match took place between England and Australia in 1877.\n",
      "The formation of the International Cricket Council (ICC) in 1909 helped organize and standardize the game globally.\n",
      "\n",
      "Format of the Game\n",
      "\n",
      "Cricket is played in several formats to make it more exciting and suitable for different audiences:\n",
      "\n",
      "Test Cricket – The oldest and longest format (5 days). It tests players’ patience, skill, and stamina.\n",
      "\n",
      "One Day Internationals (ODIs) – Limited to 50 overs per side; fast-paced and strategic.\n",
      "\n",
      "Twenty20 (T20) – The shortest and most entertaining format (20 overs per side). Perfect for modern audiences.\n",
      "\n",
      "Cricket in India\n",
      "\n",
      "In India, cricket is not just a sport — it’s an emotion. The Board of Control for Cricket in India (BCCI) is the governing body. India won its first Cricket World Cup in 1983 under Kapil Dev’s leadership and again in 2011 under MS Dhoni.\n",
      "The Indian Premier League (IPL), started in 2008, has revolutionized cricket by combining sports and entertainment, attracting players from all over the world.\n",
      "\n",
      "Famous Cricketers\n",
      "\n",
      "Sachin Tendulkar – Known as the “God of Cricket.”\n",
      "\n",
      "MS Dhoni – One of the most successful captains in history.\n",
      "\n",
      "Virat Kohli – Known for his aggressive batting and fitness.\n",
      "\n",
      "Rohit Sharma, Jasprit Bumrah, and Hardik Pandya are among the current stars.\n",
      "\n",
      "Impact of Cricket\n",
      "\n",
      "Cricket unites people beyond religion, region, and language. It promotes teamwork, discipline, and national pride. The sport also contributes significantly to the economy through broadcasting, tourism, and sponsorships.\n",
      "\n",
      "Conclusion\n",
      "\n",
      "Cricket has grown from a traditional English pastime to a global phenomenon. It brings joy, passion, and inspiration to millions. With new technologies, tournaments, and rising talents, the future of cricket looks brighter than ever. \n",
      "\n",
      "{'source': 'cricket.txt'} \n",
      "\n",
      "This text provides a concise overview of cricket, tracing its origins in 16th century England to its current status as a global sport. It highlights key historical milestones like the first international matches and the formation of the ICC. The text then outlines the different formats of the game - Test, ODI, and T20 - and emphasizes cricket's immense popularity in India, mentioning the BCCI, World Cup wins, and the impact of the IPL. It also names some famous cricketers like Sachin Tendulkar and MS Dhoni. Finally, the text concludes by emphasizing cricket's unifying power, its contribution to the economy, and its promising future.\n"
     ]
    }
   ],
   "source": [
    "loader = TextLoader('cricket.txt', encoding='utf8')\n",
    "data = loader.load()\n",
    "print(data[0].page_content, '\\n')\n",
    "print(data[0].metadata, '\\n')\n",
    "\n",
    "model=ChatGoogleGenerativeAI(model=\"gemini-2.0-flash\", temperature=0.4)\n",
    "\n",
    "prompt = PromptTemplate(\n",
    "    template=\"Write a summary for the following poem: {poem}\",\n",
    "    input_variables=[\"poem\"]\n",
    ")\n",
    "\n",
    "parser = StrOutputParser()\n",
    "chain = prompt | model | parser\n",
    "response = chain.invoke({\"poem\": data[0].page_content})\n",
    "print(response)\n"
   ]
  },
  {
   "cell_type": "code",
   "execution_count": null,
   "id": "4deeacd2",
   "metadata": {},
   "outputs": [],
   "source": []
  }
 ],
 "metadata": {
  "kernelspec": {
   "display_name": "Python 3",
   "language": "python",
   "name": "python3"
  },
  "language_info": {
   "codemirror_mode": {
    "name": "ipython",
    "version": 3
   },
   "file_extension": ".py",
   "mimetype": "text/x-python",
   "name": "python",
   "nbconvert_exporter": "python",
   "pygments_lexer": "ipython3",
   "version": "3.13.5"
  }
 },
 "nbformat": 4,
 "nbformat_minor": 5
}
