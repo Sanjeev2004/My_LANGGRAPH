{
 "cells": [
  {
   "cell_type": "code",
   "execution_count": 2,
   "id": "af905cd8",
   "metadata": {},
   "outputs": [
    {
     "data": {
      "text/plain": [
       "True"
      ]
     },
     "execution_count": 2,
     "metadata": {},
     "output_type": "execute_result"
    }
   ],
   "source": [
    "\n",
    "from langchain_google_genai import ChatGoogleGenerativeAI\n",
    "from langchain_core.prompts import PromptTemplate\n",
    "from langchain_community.document_loaders import TextLoader,PyPDFLoader\n",
    "from langchain_core.output_parsers import StrOutputParser\n",
    "from dotenv import load_dotenv\n",
    "load_dotenv()\n"
   ]
  },
  {
   "cell_type": "code",
   "execution_count": 7,
   "id": "b288496e",
   "metadata": {},
   "outputs": [
    {
     "name": "stdout",
     "output_type": "stream",
     "text": [
      "\n",
      "{'producer': '3-Heights(TM) PDF Security Shell 4.8.25.2 (http://www.pdf-tools.com) / pdcat (www.pdf-tools.com)', 'creator': 'PyPDF', 'creationdate': '', 'title': 'Practical Training Diary DTU', 'author': 'CamScanner', 'subject': 'Practical Training Diary DTU', 'keywords': '', 'moddate': '2024-11-26T08:50:00+00:00', 'source': 'DTU Internship Training Diary Template.pdf', 'total_pages': 48, 'page': 1, 'page_label': '2'}\n"
     ]
    }
   ],
   "source": [
    "loader = PyPDFLoader('DTU Internship Training Diary Template.pdf')\n",
    "data=loader.load()\n",
    "\n",
    "print(data[0].page_content)\n",
    "print(data[1].metadata)"
   ]
  },
  {
   "cell_type": "code",
   "execution_count": null,
   "id": "9f79649e",
   "metadata": {},
   "outputs": [],
   "source": []
  }
 ],
 "metadata": {
  "kernelspec": {
   "display_name": "Python 3",
   "language": "python",
   "name": "python3"
  },
  "language_info": {
   "codemirror_mode": {
    "name": "ipython",
    "version": 3
   },
   "file_extension": ".py",
   "mimetype": "text/x-python",
   "name": "python",
   "nbconvert_exporter": "python",
   "pygments_lexer": "ipython3",
   "version": "3.13.5"
  }
 },
 "nbformat": 4,
 "nbformat_minor": 5
}
