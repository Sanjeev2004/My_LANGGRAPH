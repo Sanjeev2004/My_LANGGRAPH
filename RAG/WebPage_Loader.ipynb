{
 "cells": [
  {
   "cell_type": "code",
   "execution_count": null,
   "id": "cac4a844",
   "metadata": {},
   "outputs": [
    {
     "name": "stderr",
     "output_type": "stream",
     "text": [
      "USER_AGENT environment variable not set, consider setting it to identify your requests.\n"
     ]
    },
    {
     "name": "stdout",
     "output_type": "stream",
     "text": [
      "1\n",
      "  Apple MacBook AIR Apple M2 - (16 GB/256 GB SSD/macOS Sequoia) MC7X4HN/A Rs.85900  Price in India - Buy Apple MacBook AIR Apple M2 - (16 GB/256 GB SSD/macOS Sequoia) MC7X4HN/A Midnight Online - Apple : Flipkart.com        Explore PlusLoginBecome a Seller More CartAdd to cart Buy NowHomeComputersLaptopsApple LaptopsApple MacBook AIR Apple M2 - (16 GB/256 GB SSD/macOS Sequoia) MC7X4HN/A (13.6 Inch, Midnight, 1.24 kg)\n",
      "CompareShareApple MacBook AIR Apple M2 - (16 GB/256 GB SSD/macOS Sequoia) MC7X4HN/A  (13.6 Inch, Midnight, 1.24 kg)4.76,246 Ratings & 376 ReviewsSpecial price₹64,999₹85,90024% offi+ ₹99 Protect Promise Fee Learn moreSecure delivery by 15 Oct, WednesdayAvailable offersBank Offer5% cashback on Axis Bank Flipkart Debit Card up to ₹750T&CBank Offer5% cashback on Flipkart SBI Credit Card upto ₹4,000 per calendar quarterT&CBank Offer5% cashback on Flipkart Axis Bank Credit Card upto ₹4,000 per statement quarterT&CSpecial PriceGet extra 24% offT&CView 5 more offersBuy without Exchange₹64,999Buy with Exchangeup to ₹22,000 offEnter pincode to check if exchange is available1 Year Limited WarrantyKnow MoreColorMidnightStarlightPlease select a Color to proceed✕DeliveryCheckEnter pincodeDelivery by15 Oct, Wednesday?if ordered before 9:25 PMInstallation & Demo  by14 Oct, Tuesday|₹599View DetailsHighlightsStylish & Portable Thin and Light Laptop13.6 Inch Liquid Retina display, LED-backlit display with IPS technology native resolution at 224 pixels per inch, 500 nits brightnessLight Laptop without Optical Disk DriveEasy Payment OptionsNo cost EMI starting from ₹7,223/monthCash on DeliveryNet banking & Credit/ Debit/ ATM cardView DetailsSellerTREASURE HAUL ONLINE4.6No Returns Applicable?GST invoice available?See other sellersSpecificationsWarrantyWarranty Summary1 Year Limited WarrantyWarranty Service TypeOnsiteCovered in WarrantyManufacturing DefectsNot Covered in WarrantyPhysical DamageDomestic Warranty1 YearProcessor And Memory FeaturesProcessor BrandAppleProcessor NameM2SSDYesSSD Capacity256 GBRAM16 GBRAM TypeUnified MemoryGraphic ProcessorNAStorage TypeSSDGeneralSales Package13.6 inch MacBook Air USB-C Power Adapter, USB-C to MagSafe 3 Cable (2 m)Model NumberMC7X4HN/APart NumberMC7X4HN/AModel NameMacBook AirSeriesMacBook AIRColorMidnightTypeThin and Light LaptopSuitable ForProcessing & MultitaskingBattery BackupUpto 18 HoursMS Office ProvidedNoDisplay And Audio FeaturesTouchscreenNoScreen Size34.54 cm (13.6 Inch)Screen Resolution2560 x 1664 PixelScreen TypeLiquid Retina display, LED-backlit display with IPS technology native resolution at 224 pixels per inch, 500 nits brightnessSpeakersBuilt-in SpeakersSound PropertiesFour-speaker sound systemDimensionsDimensions304.1 x 215.0 x 11.3 mmWeight1.24 kgAdditional FeaturesDisk DriveNot AvailableWeb Camera1080p FaceTime HD cameraKeyboardBacklit Magic KeyboardBacklit KeyboardYesIncluded SoftwareBuilt-in Apps: App Store, Books, Calendar, Contacts, FaceTime, Find My, Freeform, GarageBand, Home, iMovie, Keynote, Mail, Maps, Messages, Music, Notes, Numbers, Pages, Photo Booth, Photos, Podcasts, Preview, QuickTime Player, Reminders, Safari, Shortcuts, Siri, Stocks, Time Machine, TV, Voice Memos, WeatherOperating SystemOperating SystemmacOS SequoiaPort And Slot FeaturesMic InYesUSB Port2 x Thunderbolt USB 4Connectivity FeaturesWireless LANWi-Fi 6 (802.11ax)Bluetoothv5.3Read MoreBuy Together and Save upto 10%Apple MacBook AIR Apple M2 - (16 GB/256 GB SSD/macOS Sequoia) MC7...4.7(6,246)₹64,999₹85,90024% offMOCA 16 inch Sleeve/Slip Case4.2(513)₹1,299Apple Magic Mouse Wireless Touch Mouse4.5(238)₹5,039₹5,59910% offSpecial price if bought with this itemPlease add at least 1 add-on item to proceedADD TO CARTRatings & ReviewsRate Product4.7★6,246 Ratings &376 Reviews5★4★3★2★1★5,018821128592204.7Performance4.7Battery4.7Design4.7Display+ 2555Terrific purchaseMy first laptop and it's macbook🥺it's amazingREAD MOREAmrita DharaCertified Buyer, Haora District24 days ago15541PermalinkReport Abuse5Perfect product!Worth it.READ MORESuaib SarowarCertified Buyer, Murshidabad District4 months ago100PermalinkReport Abuse5ExcellentThanks flipkart for sending me a genuine product.I was scared of the recent incidents of you (treasure haul) sending fake or used products. Thanks for not breaking my trust ❤️I got 100% new and genuine product ThanksAnd , Battery backup is awesome 😮READ MORESharvila PatelCertified Buyer, Ahmedabad2 months ago327PermalinkReport Abuse4Good quality productI know that this macbook is a gd one but was worried about this seller. I searched for this Treasure Haul Online seller and came to know that there are many negative reviews. Please do check the serial number and any kind of damage that's all you can do before sharing otp. I received this product on 11th May, 2025 and it's really value for money. Battery is insanely good, nothing to mention about performance we all know that. Good display ( macbook pro has even better display). One problem i ...READ MORESoumya  DasCertified Buyer, Basudebpur Purba Medinipur District4 months ago11941PermalinkReport Abuse4Really NiceBest purchase smooth and good looking performance is peak display is awesome battery is also good for long use if you need for student use go for itREAD MOREMegavath AkashCertified Buyer, Nizamabad4 months ago60PermalinkReport Abuse4Pretty goodThe Product is Best For Me..........The Product is Value For Money.....READ MOREFlipkart CustomerCertified Buyer, Chandrakona5 months ago70PermalinkReport Abuse5Great productInitially, I also had some confusion about buying this Mac, but I bought it with the help of its user rating.After 1 month of use, I am adding this review.Performance 10/10Display 10/10Sound / Speaker 9/10Features 9/10Basically, I am a mobile developer. I use this for Android app development (Android Studio, Kotlin,Java) and iOS development (Xcode, Swift). It works very smoothly and has exceptionally high quality performance. I also have another Mac from my employer with a 32 GB M3 P...READ MOREAvinash TilekarCertified Buyer, Pune1 month ago5722PermalinkReport Abuse5Just wow!I writing this after using 1 week I have this M2 AIR in bbd 2025 sale Which price is at 64K At that price no window laptop can beat this performance,battery,display, performance,etc..If your reading my review just blindly go for the laptop Its worth for money Dont use anu laptop cases which definitely damage the laptop hinge , Don't use any accessories for laptop which definitely cause damage for laptopJust buy the laptop use carefullyREAD MORESurya  Prakash Certified Buyer, Nadendla7 days ago60PermalinkReport Abuse5Just wow!I bought this macbook air m2 the beast today only and I am damn happy by having this.... I loved it and I would recommend everyone that just go for it!!!❤️❤️READ MOREDarshit DoshiCertified Buyer, Daryapur Banosa8 months ago60PermalinkReport Abuse5Super!The product is awesome and working very smooth. Display, battery, processor and everything. The battery last for like 8-10 hours unlike what apple says it lasts for 18 hours or so. That's not going to happen. But yeah it lasts around 10 hours and I think for most of the guys that's sufficient. It's a 16 GB variant and this runs  as smooth as water (trust me). For coding guys, nothing can beat it afaik. I found it for 78000 last month. I would suggest to go for it. You won't regret. But one su...READ MORERatnesh NathCertified Buyer, New Delhi7 months ago4116PermalinkReport Abuse+All 376 reviewsQuestions and AnswersQ:back side logo lights ?A:No . Logo doesn't light up.Apple has discontinued it from 2018 or maybe 2017Akhil  NegiCertified Buyer19346Report AbuseQ:M2 can come with MS office like ms word, ms exel, power point presentation etc...A:It is not pre downloaded you have to download it from App StoreAnonymousCertified Buyer6520Report AbuseRead other answersQ:Is 8gb ram sufficient for students?A:Yes. You can easily do multitasking work on it.Vishal KumarCertified Buyer113Report AbuseQ:Can use for civil engineering students?A:YesAnonymousCertified Buyer4126Report AbuseQ:4k video output is there or not?A:Yes and it's goodAnonymousCertified Buyer92Report AbuseQ:Can we use it for machine learning?A:Of course you can. It depends on the apps you are going to use.Karthik SwotCertified Buyer30Report AbuseQ:What is in the box?A:Adapter ,magsafe charger, macbookAnu Sharma Certified Buyer41Report AbuseQ:can we charge using type charger like we do for macbook pro?A:No, it will not be good because some connectivity issues will be seen if we use the same port for multiple useDr. Nur Ahammed  KhanCertified Buyer20Report AbuseQ:Can we use python,sql,power bi in macbook?A:Yes u can use all in macbook and all work fine as a java developer i am also using MacBook for my projectsDeepak TripathiCertified Buyer45Report AbuseQ:Is this connect to realme phoneA:need to download android data transfer software for for file transfer form Android to macsavai marajCertified Buyer23753Report AbuseAll questions+Safe and Secure Payments.Easy returns.100% Authentic products.You might be interested inPhysicalMin. 50% OffShop NowExternal SSDMin. 50% OffShop NowWired EarphonesMin. 50% OffShop NowData CardsMin. 50% OffShop NowTop Stories:Brand DirectoryMOST SEARCHED IN Computers & Accessories:APPLE AIRASUS X205TAGRAPHICS CARD160 GB HARD DISK PRICEAMD PROCESSORSDELL ALL IN ONETP LINK INDIAWIFI DONGLE FOR PCPRINTERHARD DRIVE PRICEHP PEN DRIVE 16GB PRICEPENDRIVE ONLINED-LINK DSL-2750UEPSON L210 PRINTERHP 1020 PLUSHP MINI LAPTOPEXTERNAL DVD DRIVEKEYBOARDASUS LAPTOP PRICE LISTDELL ONLINE STORELENOVO I3 LAPTOPLENOVO G50-70 NOTEBOOKOPTICAL MOUSEMOVAVI VIDEO EDITORNORTON MOBILE SECURITYCLASS 10 MEMORY CARDTPLINKABOUTContact UsAbout UsCareersFlipkart StoriesPressCorporate InformationGROUP COMPANIESMyntraCleartripShopsyHELPPaymentsShippingCancellation & ReturnsFAQCONSUMER POLICYCancellation & ReturnsTerms Of UseSecurityPrivacySitemapGrievance RedressalEPR ComplianceMail Us:Flipkart Internet Private Limited, \n",
      " Buildings Alyssa, Begonia & \n",
      " Clove Embassy Tech Village, \n",
      " Outer Ring Road, Devarabeesanahalli Village, \n",
      " Bengaluru, 560103, \n",
      " Karnataka, India\n",
      "SocialRegistered Office Address:Flipkart Internet Private Limited, \n",
      " Buildings Alyssa, Begonia & \n",
      " Clove Embassy Tech Village, \n",
      " Outer Ring Road, Devarabeesanahalli Village, \n",
      " Bengaluru, 560103, \n",
      " Karnataka, India \n",
      " CIN : U51109KA2012PTC066107 \n",
      " Telephone: 044-45614700 / 044-67415800\n",
      "Become a SellerAdvertiseGift CardsHelp Center© 2007-2025 Flipkart.comBack to top   \n",
      " \n",
      "\n",
      "\n",
      "\n"
     ]
    }
   ],
   "source": [
    "from langchain_community.document_loaders import PyPDFLoader,WebBaseLoader\n",
    "\n",
    "url=\"https://www.flipkart.com/apple-macbook-air-m2-16-gb-256-gb-ssd-macos-sequoia-mc7x4hn-a/p/itmdc5308fa78421?pid=COMH64PY76CJKBYU&lid=LSTCOMH64PY76CJKBYUOL7TOK&marketplace=FLIPKART&q=macbook&store=6bo%2Fb5g&spotlightTagId=default_BestsellerId_6bo%2Fb5g&srno=s_1_1&otracker=search&otracker1=search&fm=Search&iid=06df4db9-39e0-4c50-afdb-46dca86ed87e.COMH64PY76CJKBYU.SEARCH&ppt=sp&ppn=sp&ssid=ottln6tq1s0000001759930987632&qH=864faee128623e2f\"\n",
    "\n",
    "loader=WebBaseLoader(url)\n",
    "data=loader.load()\n",
    "\n",
    "print(len(data))\n",
    "\n",
    "print(data[0].page_content)\n",
    "\n"
   ]
  }
 ],
 "metadata": {
  "kernelspec": {
   "display_name": "Python 3",
   "language": "python",
   "name": "python3"
  },
  "language_info": {
   "codemirror_mode": {
    "name": "ipython",
    "version": 3
   },
   "file_extension": ".py",
   "mimetype": "text/x-python",
   "name": "python",
   "nbconvert_exporter": "python",
   "pygments_lexer": "ipython3",
   "version": "3.13.5"
  }
 },
 "nbformat": 4,
 "nbformat_minor": 5
}
