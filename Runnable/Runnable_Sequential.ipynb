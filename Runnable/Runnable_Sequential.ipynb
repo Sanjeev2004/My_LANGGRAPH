{
 "cells": [
  {
   "cell_type": "code",
   "execution_count": 1,
   "id": "a30da8ae",
   "metadata": {},
   "outputs": [
    {
     "data": {
      "text/plain": [
       "True"
      ]
     },
     "execution_count": 1,
     "metadata": {},
     "output_type": "execute_result"
    }
   ],
   "source": [
    "from langchain_google_genai import ChatGoogleGenerativeAI\n",
    "from langchain_core.prompts import PromptTemplate\n",
    "from langchain_core.output_parsers import StrOutputParser\n",
    "from dotenv import load_dotenv\n",
    "from langchain.schema.runnable import RunnableSequence\n",
    "load_dotenv()"
   ]
  },
  {
   "cell_type": "code",
   "execution_count": 7,
   "id": "da1001d5",
   "metadata": {},
   "outputs": [
    {
     "name": "stdout",
     "output_type": "stream",
     "text": [
      "Okay, here's the joke explained simply:\n",
      "\n",
      "*   **The Setup:** Scarecrows stand in fields.\n",
      "*   **The Pun:** \"Outstanding in his field\" is a play on words. It means both:\n",
      "    *   The scarecrow is very good at his job.\n",
      "    *   The scarecrow is literally standing out in the field.\n",
      "*   **The Modern Twist:** The AI crop management system makes the joke even funnier. It implies that the scarecrow's success is now due to technology, not his own scarecrow skills, adding a layer of irony. He's outstanding because the AI is helping the crops grow better around him.\n"
     ]
    }
   ],
   "source": [
    "prompt1=PromptTemplate(\n",
    "    template=\"Tell me a joke about {subject}.\",\n",
    "    input_variables=[\"subject\"],\n",
    ")\n",
    "\n",
    "prompt2=PromptTemplate(\n",
    "    template=\"explain the joke in a simple way.-{text}\",\n",
    "    input_variables=[\"text\"],\n",
    ")\n",
    "\n",
    "parser=StrOutputParser()\n",
    "\n",
    "model=ChatGoogleGenerativeAI(model=\"gemini-2.0-flash\",temperature=0.4)\n",
    "\n",
    "chain=RunnableSequence(prompt1,model,parser,prompt2,model,parser)\n",
    "\n",
    "print(chain.invoke({\"subject\":\"technology\"}))"
   ]
  }
 ],
 "metadata": {
  "kernelspec": {
   "display_name": "Python 3",
   "language": "python",
   "name": "python3"
  },
  "language_info": {
   "codemirror_mode": {
    "name": "ipython",
    "version": 3
   },
   "file_extension": ".py",
   "mimetype": "text/x-python",
   "name": "python",
   "nbconvert_exporter": "python",
   "pygments_lexer": "ipython3",
   "version": "3.13.5"
  }
 },
 "nbformat": 4,
 "nbformat_minor": 5
}
