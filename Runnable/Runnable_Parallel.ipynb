{
 "cells": [
  {
   "cell_type": "code",
   "execution_count": 5,
   "id": "051ecacd",
   "metadata": {},
   "outputs": [
    {
     "name": "stdout",
     "output_type": "stream",
     "text": [
      "{'Tweet': \"Just dove into LangChain and I'm blown away! 🤯 Building powerful LLM applications is now so much easier with its modularity and composability. Excited to see what I can create! #LangChain #LLM #AI #Python #MachineLearning\", 'LinkedIn Post': \"## Level Up Your AI Game with LangChain! 🚀\\n\\nBeen hearing a lot about LangChain lately? You should be! It's a powerful framework that's revolutionizing how we build applications powered by large language models (LLMs) like GPT-3, Bard, and more.\\n\\nLangChain simplifies the process of:\\n\\n*   **Connecting LLMs to external data sources:** Think databases, APIs, search engines – unlocking a world of possibilities beyond just the LLM's pre-trained knowledge.\\n*   **Creating complex chains of LLM calls:** Build sophisticated workflows for tasks like question answering, document summarization, and even autonomous agents.\\n*   **Experimenting with different LLM models and prompts:** Easily swap out models and fine-tune your prompts to achieve optimal results.\\n\\n**Why is this important?**\\n\\nLangChain empowers developers to build truly intelligent and adaptable applications that can:\\n\\n*   **Automate complex tasks:** Reduce manual effort and improve efficiency.\\n*   **Provide personalized experiences:** Tailor responses and recommendations based on user data.\\n*   **Unlock new insights from unstructured data:** Analyze and extract valuable information from documents, emails, and more.\\n\\n**Getting Started:**\\n\\nThe learning curve is surprisingly gentle! LangChain offers excellent documentation, tutorials, and a vibrant community.\\n\\n**Here are some resources to get you started:**\\n\\n*   **LangChain Documentation:** [Insert LangChain Documentation Link Here]\\n*   **LangChain GitHub Repository:** [Insert LangChain GitHub Repository Link Here]\\n\\n**What are you building with LangChain? Share your projects and experiences in the comments below!** Let's learn and grow together in this exciting field of AI development.\\n\\n#LangChain #AI #LLM #LargeLanguageModels #ArtificialIntelligence #MachineLearning #Python #Development #Innovation #AIApplications #GPT3 #Bard #NLP #NaturalLanguageProcessing\"}\n",
      "                +------------------------------------+                 \n",
      "                | Parallel<Tweet,LinkedIn Post>Input |                 \n",
      "                +------------------------------------+                 \n",
      "                       ***                   ***                       \n",
      "                   ****                         ****                   \n",
      "                 **                                 **                 \n",
      "    +----------------+                          +----------------+     \n",
      "    | PromptTemplate |                          | PromptTemplate |     \n",
      "    +----------------+                          +----------------+     \n",
      "             *                                           *             \n",
      "             *                                           *             \n",
      "             *                                           *             \n",
      "+------------------------+                  +------------------------+ \n",
      "| ChatGoogleGenerativeAI |                  | ChatGoogleGenerativeAI | \n",
      "+------------------------+                  +------------------------+ \n",
      "             *                                           *             \n",
      "             *                                           *             \n",
      "             *                                           *             \n",
      "    +-----------------+                         +-----------------+    \n",
      "    | StrOutputParser |                         | StrOutputParser |    \n",
      "    +-----------------+                         +-----------------+    \n",
      "                       ***                   ***                       \n",
      "                          ****           ****                          \n",
      "                              **       **                              \n",
      "                +-------------------------------------+                \n",
      "                | Parallel<Tweet,LinkedIn Post>Output |                \n",
      "                +-------------------------------------+                \n"
     ]
    }
   ],
   "source": [
    "from langchain_google_genai import ChatGoogleGenerativeAI\n",
    "from langchain_core.prompts import PromptTemplate\n",
    "from langchain_core.output_parsers import StrOutputParser\n",
    "from dotenv import load_dotenv\n",
    "from langchain.schema.runnable import RunnableParallel, RunnableSequence\n",
    "load_dotenv()\n",
    "\n",
    "prompt1=PromptTemplate(\n",
    "    template=\"Generate a tweet about {topic}.\",\n",
    "    input_variables=[\"topic\"]\n",
    ")\n",
    "\n",
    "prompt2=PromptTemplate(\n",
    "    template=\"Generate a LinkedIn post about {topic}.\",\n",
    "    input_variables=[\"topic\"]\n",
    ")\n",
    "\n",
    "parser=StrOutputParser()\n",
    "\n",
    "model = ChatGoogleGenerativeAI(model=\"gemini-2.0-flash\", temperature=0.5)\n",
    "\n",
    "chain=RunnableParallel({\n",
    "    'Tweet': RunnableSequence(prompt1, model, parser),\n",
    "    'LinkedIn Post': RunnableSequence(prompt2, model, parser)\n",
    "})\n",
    "print(chain.invoke({\"topic\":\"LangChain\"}))\n",
    "\n",
    "chain.get_graph().print_ascii()\n"
   ]
  }
 ],
 "metadata": {
  "kernelspec": {
   "display_name": "Python 3",
   "language": "python",
   "name": "python3"
  },
  "language_info": {
   "codemirror_mode": {
    "name": "ipython",
    "version": 3
   },
   "file_extension": ".py",
   "mimetype": "text/x-python",
   "name": "python",
   "nbconvert_exporter": "python",
   "pygments_lexer": "ipython3",
   "version": "3.13.5"
  }
 },
 "nbformat": 4,
 "nbformat_minor": 5
}
